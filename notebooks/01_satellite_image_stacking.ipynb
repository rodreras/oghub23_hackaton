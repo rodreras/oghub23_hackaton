{
 "cells": [
  {
   "cell_type": "code",
   "execution_count": 10,
   "metadata": {},
   "outputs": [],
   "source": [
    "#basic libraries\n",
    "import pandas as pd\n",
    "import numpy as np\n",
    "import geopandas as gpd\n",
    "import matplotlib.pyplot as plt\n",
    "\n",
    "#system libs\n",
    "import os\n",
    "from glob import glob\n",
    "\n",
    "\n",
    "#raster libraries\n",
    "import rasterio as rio\n",
    "import rasterio.mask\n",
    "import rasterio.plot\n",
    "import earthpy.spatial as es\n",
    "import earthpy.plot as ep\n",
    "\n",
    "np.random.seed(42)\n"
   ]
  },
  {
   "cell_type": "code",
   "execution_count": 11,
   "metadata": {},
   "outputs": [
    {
     "data": {
      "text/plain": [
       "['../../ogh2023/Landast\\\\LC09_L2SP_190023_20230622_20230624_02_T1_SR_B1.TIF',\n",
       " '../../ogh2023/Landast\\\\LC09_L2SP_190023_20230622_20230624_02_T1_SR_B2.TIF',\n",
       " '../../ogh2023/Landast\\\\LC09_L2SP_190023_20230622_20230624_02_T1_SR_B3.TIF',\n",
       " '../../ogh2023/Landast\\\\LC09_L2SP_190023_20230622_20230624_02_T1_SR_B4.TIF',\n",
       " '../../ogh2023/Landast\\\\LC09_L2SP_190023_20230622_20230624_02_T1_SR_B5.TIF',\n",
       " '../../ogh2023/Landast\\\\LC09_L2SP_190023_20230622_20230624_02_T1_SR_B6.TIF',\n",
       " '../../ogh2023/Landast\\\\LC09_L2SP_190023_20230622_20230624_02_T1_SR_B7.TIF']"
      ]
     },
     "execution_count": 11,
     "metadata": {},
     "output_type": "execute_result"
    }
   ],
   "source": [
    "#getting images path\n",
    "image_path = '../../ogh2023/Landast/*B[1:2:3:4:5:6:7].TIF'\n",
    "images = glob(image_path)\n",
    "images.sort()\n",
    "images"
   ]
  },
  {
   "cell_type": "code",
   "execution_count": 12,
   "metadata": {},
   "outputs": [],
   "source": [
    "#making image staking\n",
    "img_list = []\n",
    "\n",
    "for img in images:\n",
    "    with rio.open(img, 'r') as img_file:\n",
    "        img_list.append(img_file.read(1))\n",
    "        out_meta = img_file.profile\n",
    "        img_file.close()\n",
    "    \n",
    "arr_st = np.stack(img_list)"
   ]
  },
  {
   "cell_type": "code",
   "execution_count": 13,
   "metadata": {},
   "outputs": [],
   "source": [
    "#band names for metadata\n",
    "bands_meta = ['L8B1','L8B2', 'L8B3', 'L8B4', 'L8B5', 'L8B5', 'L8B6', 'L8B7']\n",
    "\n",
    "#updating metadata\n",
    "out_meta.update({\"count\":7}) #setting number of bands\n",
    "\n",
    "out_meta.update(band_names = bands_meta) # band names\n"
   ]
  },
  {
   "cell_type": "code",
   "execution_count": 14,
   "metadata": {},
   "outputs": [],
   "source": [
    "#saving stacked image\n",
    "\n",
    "#saving multi stack to disk\n",
    "with rio.open('../output/stacked_landsat.tif','w', **out_meta) as src:\n",
    "    src.write(arr_st)"
   ]
  }
 ],
 "metadata": {
  "kernelspec": {
   "display_name": "obia",
   "language": "python",
   "name": "python3"
  },
  "language_info": {
   "codemirror_mode": {
    "name": "ipython",
    "version": 3
   },
   "file_extension": ".py",
   "mimetype": "text/x-python",
   "name": "python",
   "nbconvert_exporter": "python",
   "pygments_lexer": "ipython3",
   "version": "3.9.17"
  },
  "orig_nbformat": 4
 },
 "nbformat": 4,
 "nbformat_minor": 2
}
